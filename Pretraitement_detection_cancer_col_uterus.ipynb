{
  "nbformat": 4,
  "nbformat_minor": 0,
  "metadata": {
    "colab": {
      "provenance": []
    },
    "kernelspec": {
      "name": "python3",
      "display_name": "Python 3"
    },
    "language_info": {
      "name": "python"
    }
  },
  "cells": [
    {
      "cell_type": "markdown",
      "source": [
        "**Pretraiment Part**\n",
        "\n",
        "---\n",
        "\n",
        "Nos donnees se presentent sous forme de trois elements:\n",
        "\n",
        "-un fichier excel \"Cases-Images-VIA\" qui contient toutes les infromations sur les images telles que:le nom de l'image, le type d'image(avant application de l'acide acetique ou apres l'application)\n",
        "\n",
        "-un fichier excel sur les meta-donnees de ces images a savoir le resultat du VIA \"Positive\", \"Negative\", \"Suspicious of cancer\" mais egalement d'autres donnees\n",
        "\n",
        "-un fichier zippe qui contient les images \n",
        "\n",
        "\n",
        "\n",
        "Notre objectif est de regrouper dansun seul dataset les informations sur les photos, leur localisation et le resultat du VIA dans un meme fichier et de construire un modele de classification d'images capables de predire les resultats de l'examen"
      ],
      "metadata": {
        "id": "pdCOuaMWRsqA"
      }
    },
    {
      "cell_type": "code",
      "execution_count": 1,
      "metadata": {
        "id": "qnt1FDvoRlb5"
      },
      "outputs": [],
      "source": [
        "from google.colab import drive\n",
        "\n",
        "import pandas as pd"
      ]
    },
    {
      "cell_type": "code",
      "source": [
        "drive.mount(\"/content/drive\")"
      ],
      "metadata": {
        "colab": {
          "base_uri": "https://localhost:8080/"
        },
        "id": "N5-8Hr1aXeUy",
        "outputId": "8f948294-3ee3-4fb9-db29-5a2d8212eebb"
      },
      "execution_count": 3,
      "outputs": [
        {
          "output_type": "stream",
          "name": "stdout",
          "text": [
            "Mounted at /content/drive\n"
          ]
        }
      ]
    },
    {
      "cell_type": "code",
      "source": [
        "import os"
      ],
      "metadata": {
        "id": "cK0EnPKvXuhR"
      },
      "execution_count": 4,
      "outputs": []
    },
    {
      "cell_type": "code",
      "source": [
        "os.chdir(\"/content/drive/MyDrive/Colab_Notebooks_data/col_uterus_datas/\")"
      ],
      "metadata": {
        "id": "c_bknMRYYIBQ"
      },
      "execution_count": 5,
      "outputs": []
    },
    {
      "cell_type": "code",
      "source": [
        "from posix import getcwd"
      ],
      "metadata": {
        "id": "4vIjlhmZYZEm"
      },
      "execution_count": 6,
      "outputs": []
    },
    {
      "cell_type": "code",
      "source": [
        "getcwd()"
      ],
      "metadata": {
        "id": "FR0--vYMYce5"
      },
      "execution_count": null,
      "outputs": []
    },
    {
      "cell_type": "markdown",
      "source": [
        "Lecture du fichier excel qui contient les informations sur les images"
      ],
      "metadata": {
        "id": "UWoNhXCHdy_J"
      }
    },
    {
      "cell_type": "code",
      "source": [
        "images_via=pd.read_excel('Cases-Images-VIA',header=0)"
      ],
      "metadata": {
        "id": "jUIWbs6PYf-l"
      },
      "execution_count": null,
      "outputs": []
    },
    {
      "cell_type": "code",
      "source": [
        "images_via"
      ],
      "metadata": {
        "id": "hdZbaETyYrHZ"
      },
      "execution_count": null,
      "outputs": []
    },
    {
      "cell_type": "markdown",
      "source": [
        "Lecture des meta-donnees relatives aux images"
      ],
      "metadata": {
        "id": "JclKuDzTeKv5"
      }
    },
    {
      "cell_type": "code",
      "source": [
        "labels_via=pd.read_excel('Cases-Meta-data-VIA',header=0)"
      ],
      "metadata": {
        "id": "HI-yyJcXY1Fc"
      },
      "execution_count": null,
      "outputs": []
    },
    {
      "cell_type": "code",
      "source": [
        "labels_via"
      ],
      "metadata": {
        "id": "5Vql9odXZH0Z"
      },
      "execution_count": null,
      "outputs": []
    },
    {
      "cell_type": "markdown",
      "source": [
        "Extraction dans les meta-donnees de la colonne qui concerne:\n",
        "\n",
        "\n",
        "1.   Le cas auquel l'image fait partie(CaseID column)\n",
        "2.   Le diagnistic de l'image(VIA column)\n",
        "\n",
        "\n"
      ],
      "metadata": {
        "id": "SV6Gis_MZZz4"
      }
    },
    {
      "cell_type": "code",
      "source": [
        "labels=labels_via[['VIA','CaseID']]"
      ],
      "metadata": {
        "id": "jGX4Kyk6ZJfv"
      },
      "execution_count": null,
      "outputs": []
    },
    {
      "cell_type": "markdown",
      "source": [
        "Affichage des donnees"
      ],
      "metadata": {
        "id": "pIJtCsW6fxmQ"
      }
    },
    {
      "cell_type": "code",
      "source": [
        "labels"
      ],
      "metadata": {
        "id": "X5nFPXI1aBkm"
      },
      "execution_count": null,
      "outputs": []
    },
    {
      "cell_type": "markdown",
      "source": [
        "Labelisation de chaque CaseID\n",
        "\n",
        "En effet dans cette partie on fait la chose suivante:\n",
        "On sait que pour les images appartenant au meme cas en plus de leur nom ont les numeros 0,1 ou 2. Alors que pour les labels, ils ne concernent que le cas dans l'ensemble.\n",
        "\n",
        "\n",
        "> Example: Pour le cas 118: nous avons au niveau des images ABY_0.jpg,ABY_1.jpg, ABY_2.jpg. Cependant au niveau des labels dans le deuxieme dataset, on a \"ABY Positive\". Donc on doit considerer doit transformer \"ABY_1 Positive\",\"ABY_2 Positive\",\"ABY_0 Positive\"\n",
        "\n"
      ],
      "metadata": {
        "id": "YdLq5hSNN2Hr"
      }
    },
    {
      "cell_type": "markdown",
      "source": [
        "1. Ajouter les noms de tous les images dans le dataset des labels. Pour cela ajoutons pour chaque CaseID les numeros 0 et 1 \n",
        "\n",
        "---\n",
        "\n",
        "Ajout de 1"
      ],
      "metadata": {
        "id": "ketHthf6h2hj"
      }
    },
    {
      "cell_type": "code",
      "source": [
        "for i in range(186):\n",
        "  labels.loc[i+186]=labels.loc[i]\n",
        "  line=labels.loc[i+186]\n",
        "  line.CaseID=line.CaseID+\"1\""
      ],
      "metadata": {
        "id": "O18bv3GaW49O"
      },
      "execution_count": null,
      "outputs": []
    },
    {
      "cell_type": "markdown",
      "source": [
        "Ajout de 0"
      ],
      "metadata": {
        "id": "bQl3IZ1fioU0"
      }
    },
    {
      "cell_type": "code",
      "source": [
        "for i in range(186):\n",
        "  labels.loc[i].CaseID=labels.loc[i].CaseID+\"0\""
      ],
      "metadata": {
        "id": "MrlilsgAfpst"
      },
      "execution_count": null,
      "outputs": []
    },
    {
      "cell_type": "code",
      "source": [
        "labels"
      ],
      "metadata": {
        "id": "070hEYRYdggk"
      },
      "execution_count": null,
      "outputs": []
    },
    {
      "cell_type": "markdown",
      "source": [
        "En comptant le nombre d'enregistrements de chaque ligne on se rend compte d'un gap nentre lenombre d'images et le nombre de labels.\n",
        "Une petite inspection du dataset nous montre que dans les images il y'en a qui ne concernent pas l'acide acetique "
      ],
      "metadata": {
        "id": "GoMKRK9TjCyo"
      }
    },
    {
      "cell_type": "code",
      "source": [
        "names=[]\n",
        "for img in images_via['File']:\n",
        "  name=img[:4]\n",
        "  names.append(name)"
      ],
      "metadata": {
        "id": "yUjbmKcCWy3n"
      },
      "execution_count": null,
      "outputs": []
    },
    {
      "cell_type": "code",
      "source": [
        "len(names)"
      ],
      "metadata": {
        "id": "UGkyEJ8rgLw_"
      },
      "execution_count": null,
      "outputs": []
    },
    {
      "cell_type": "markdown",
      "source": [
        "Identification de ce gap entre les labels et les images"
      ],
      "metadata": {
        "id": "5z9YoTBylxZO"
      }
    },
    {
      "cell_type": "markdown",
      "source": [
        "Verification d'images au Lugol"
      ],
      "metadata": {
        "id": "-iUPFHBemVhl"
      }
    },
    {
      "cell_type": "code",
      "source": [
        "indexes=[]\n",
        "types=list(images_via['Type'])\n",
        "#print(types)\n",
        "for i in range(len(types)):\n",
        "  if types[i]!=\"After application of acetic acid\" and types[i]!=\"Before application of acetic acid\":\n",
        "    print(types[i])\n",
        "    indexes.append(i)"
      ],
      "metadata": {
        "id": "ycYV4GX8gjcc"
      },
      "execution_count": null,
      "outputs": []
    },
    {
      "cell_type": "code",
      "source": [
        "len(indexes)"
      ],
      "metadata": {
        "colab": {
          "base_uri": "https://localhost:8080/"
        },
        "id": "g2oPg-5wnoWh",
        "outputId": "19699d5c-cf39-4f0c-a27c-bb875fe30f98"
      },
      "execution_count": null,
      "outputs": [
        {
          "output_type": "execute_result",
          "data": {
            "text/plain": [
              "0"
            ]
          },
          "metadata": {},
          "execution_count": 58
        }
      ]
    },
    {
      "cell_type": "markdown",
      "source": [
        "Suppression de ces images relatives au Lugol"
      ],
      "metadata": {
        "id": "2d1MZg0yjkmn"
      }
    },
    {
      "cell_type": "code",
      "source": [
        "images_via=images_via.drop(indexes)"
      ],
      "metadata": {
        "id": "Sg43tZllo3Zm"
      },
      "execution_count": null,
      "outputs": []
    },
    {
      "cell_type": "code",
      "source": [
        "images_via"
      ],
      "metadata": {
        "id": "inSvrpr1tYoJ"
      },
      "execution_count": null,
      "outputs": []
    },
    {
      "cell_type": "markdown",
      "source": [
        "Dans cette partie, on rassemble les deux datasets: celui des images et celui des labels. On commence\n",
        " par creer une colonne en commun dans les deux datasets \n",
        "\n",
        "---\n",
        "\n",
        "\n",
        "On renomme la colonne \"CaseID\" en \"File\""
      ],
      "metadata": {
        "id": "lhcm1TtUw4fc"
      }
    },
    {
      "cell_type": "code",
      "source": [
        "labels.rename(columns={'CaseID':'File'},inplace=True)"
      ],
      "metadata": {
        "id": "Sctd2f87wLYB"
      },
      "execution_count": null,
      "outputs": []
    },
    {
      "cell_type": "code",
      "source": [
        "labels"
      ],
      "metadata": {
        "colab": {
          "base_uri": "https://localhost:8080/",
          "height": 419
        },
        "id": "VE6EcZI_TBaI",
        "outputId": "f8257a26-beea-4794-deca-95231019eb74"
      },
      "execution_count": null,
      "outputs": [
        {
          "output_type": "execute_result",
          "data": {
            "text/plain": [
              "                      VIA  File\n",
              "0                Negative  AFC0\n",
              "1                Negative  AJL0\n",
              "2                Negative  AGY0\n",
              "3                Negative  AJE0\n",
              "4                Negative  AHS0\n",
              "..                    ...   ...\n",
              "364  Suspicious of cancer  AAR1\n",
              "365  Suspicious of cancer  AEY1\n",
              "366  Suspicious of cancer  AEU1\n",
              "367  Suspicious of cancer  ADF1\n",
              "368  Suspicious of cancer  ABK1\n",
              "\n",
              "[369 rows x 2 columns]"
            ],
            "text/html": [
              "\n",
              "  <div id=\"df-d7b22bcc-eeb5-48d0-b396-c5075e8c1c47\">\n",
              "    <div class=\"colab-df-container\">\n",
              "      <div>\n",
              "<style scoped>\n",
              "    .dataframe tbody tr th:only-of-type {\n",
              "        vertical-align: middle;\n",
              "    }\n",
              "\n",
              "    .dataframe tbody tr th {\n",
              "        vertical-align: top;\n",
              "    }\n",
              "\n",
              "    .dataframe thead th {\n",
              "        text-align: right;\n",
              "    }\n",
              "</style>\n",
              "<table border=\"1\" class=\"dataframe\">\n",
              "  <thead>\n",
              "    <tr style=\"text-align: right;\">\n",
              "      <th></th>\n",
              "      <th>VIA</th>\n",
              "      <th>File</th>\n",
              "    </tr>\n",
              "  </thead>\n",
              "  <tbody>\n",
              "    <tr>\n",
              "      <th>0</th>\n",
              "      <td>Negative</td>\n",
              "      <td>AFC0</td>\n",
              "    </tr>\n",
              "    <tr>\n",
              "      <th>1</th>\n",
              "      <td>Negative</td>\n",
              "      <td>AJL0</td>\n",
              "    </tr>\n",
              "    <tr>\n",
              "      <th>2</th>\n",
              "      <td>Negative</td>\n",
              "      <td>AGY0</td>\n",
              "    </tr>\n",
              "    <tr>\n",
              "      <th>3</th>\n",
              "      <td>Negative</td>\n",
              "      <td>AJE0</td>\n",
              "    </tr>\n",
              "    <tr>\n",
              "      <th>4</th>\n",
              "      <td>Negative</td>\n",
              "      <td>AHS0</td>\n",
              "    </tr>\n",
              "    <tr>\n",
              "      <th>...</th>\n",
              "      <td>...</td>\n",
              "      <td>...</td>\n",
              "    </tr>\n",
              "    <tr>\n",
              "      <th>364</th>\n",
              "      <td>Suspicious of cancer</td>\n",
              "      <td>AAR1</td>\n",
              "    </tr>\n",
              "    <tr>\n",
              "      <th>365</th>\n",
              "      <td>Suspicious of cancer</td>\n",
              "      <td>AEY1</td>\n",
              "    </tr>\n",
              "    <tr>\n",
              "      <th>366</th>\n",
              "      <td>Suspicious of cancer</td>\n",
              "      <td>AEU1</td>\n",
              "    </tr>\n",
              "    <tr>\n",
              "      <th>367</th>\n",
              "      <td>Suspicious of cancer</td>\n",
              "      <td>ADF1</td>\n",
              "    </tr>\n",
              "    <tr>\n",
              "      <th>368</th>\n",
              "      <td>Suspicious of cancer</td>\n",
              "      <td>ABK1</td>\n",
              "    </tr>\n",
              "  </tbody>\n",
              "</table>\n",
              "<p>369 rows × 2 columns</p>\n",
              "</div>\n",
              "      <button class=\"colab-df-convert\" onclick=\"convertToInteractive('df-d7b22bcc-eeb5-48d0-b396-c5075e8c1c47')\"\n",
              "              title=\"Convert this dataframe to an interactive table.\"\n",
              "              style=\"display:none;\">\n",
              "        \n",
              "  <svg xmlns=\"http://www.w3.org/2000/svg\" height=\"24px\"viewBox=\"0 0 24 24\"\n",
              "       width=\"24px\">\n",
              "    <path d=\"M0 0h24v24H0V0z\" fill=\"none\"/>\n",
              "    <path d=\"M18.56 5.44l.94 2.06.94-2.06 2.06-.94-2.06-.94-.94-2.06-.94 2.06-2.06.94zm-11 1L8.5 8.5l.94-2.06 2.06-.94-2.06-.94L8.5 2.5l-.94 2.06-2.06.94zm10 10l.94 2.06.94-2.06 2.06-.94-2.06-.94-.94-2.06-.94 2.06-2.06.94z\"/><path d=\"M17.41 7.96l-1.37-1.37c-.4-.4-.92-.59-1.43-.59-.52 0-1.04.2-1.43.59L10.3 9.45l-7.72 7.72c-.78.78-.78 2.05 0 2.83L4 21.41c.39.39.9.59 1.41.59.51 0 1.02-.2 1.41-.59l7.78-7.78 2.81-2.81c.8-.78.8-2.07 0-2.86zM5.41 20L4 18.59l7.72-7.72 1.47 1.35L5.41 20z\"/>\n",
              "  </svg>\n",
              "      </button>\n",
              "      \n",
              "  <style>\n",
              "    .colab-df-container {\n",
              "      display:flex;\n",
              "      flex-wrap:wrap;\n",
              "      gap: 12px;\n",
              "    }\n",
              "\n",
              "    .colab-df-convert {\n",
              "      background-color: #E8F0FE;\n",
              "      border: none;\n",
              "      border-radius: 50%;\n",
              "      cursor: pointer;\n",
              "      display: none;\n",
              "      fill: #1967D2;\n",
              "      height: 32px;\n",
              "      padding: 0 0 0 0;\n",
              "      width: 32px;\n",
              "    }\n",
              "\n",
              "    .colab-df-convert:hover {\n",
              "      background-color: #E2EBFA;\n",
              "      box-shadow: 0px 1px 2px rgba(60, 64, 67, 0.3), 0px 1px 3px 1px rgba(60, 64, 67, 0.15);\n",
              "      fill: #174EA6;\n",
              "    }\n",
              "\n",
              "    [theme=dark] .colab-df-convert {\n",
              "      background-color: #3B4455;\n",
              "      fill: #D2E3FC;\n",
              "    }\n",
              "\n",
              "    [theme=dark] .colab-df-convert:hover {\n",
              "      background-color: #434B5C;\n",
              "      box-shadow: 0px 1px 3px 1px rgba(0, 0, 0, 0.15);\n",
              "      filter: drop-shadow(0px 1px 2px rgba(0, 0, 0, 0.3));\n",
              "      fill: #FFFFFF;\n",
              "    }\n",
              "  </style>\n",
              "\n",
              "      <script>\n",
              "        const buttonEl =\n",
              "          document.querySelector('#df-d7b22bcc-eeb5-48d0-b396-c5075e8c1c47 button.colab-df-convert');\n",
              "        buttonEl.style.display =\n",
              "          google.colab.kernel.accessAllowed ? 'block' : 'none';\n",
              "\n",
              "        async function convertToInteractive(key) {\n",
              "          const element = document.querySelector('#df-d7b22bcc-eeb5-48d0-b396-c5075e8c1c47');\n",
              "          const dataTable =\n",
              "            await google.colab.kernel.invokeFunction('convertToInteractive',\n",
              "                                                     [key], {});\n",
              "          if (!dataTable) return;\n",
              "\n",
              "          const docLinkHtml = 'Like what you see? Visit the ' +\n",
              "            '<a target=\"_blank\" href=https://colab.research.google.com/notebooks/data_table.ipynb>data table notebook</a>'\n",
              "            + ' to learn more about interactive tables.';\n",
              "          element.innerHTML = '';\n",
              "          dataTable['output_type'] = 'display_data';\n",
              "          await google.colab.output.renderOutput(dataTable, element);\n",
              "          const docLink = document.createElement('div');\n",
              "          docLink.innerHTML = docLinkHtml;\n",
              "          element.appendChild(docLink);\n",
              "        }\n",
              "      </script>\n",
              "    </div>\n",
              "  </div>\n",
              "  "
            ]
          },
          "metadata": {},
          "execution_count": 97
        }
      ]
    },
    {
      "cell_type": "markdown",
      "source": [
        "Merging des deux parties"
      ],
      "metadata": {
        "id": "0Txy4JIIpw2C"
      }
    },
    {
      "cell_type": "code",
      "source": [
        "dataset_via=images_via.merge(labels)\n",
        "dataset_via"
      ],
      "metadata": {
        "id": "e_FX_T09zy2-"
      },
      "execution_count": null,
      "outputs": []
    },
    {
      "cell_type": "markdown",
      "source": [
        "**Commentaire**\n",
        "\n",
        "---\n",
        "On obtient a la fin un dataset avec deux colonnes: une colonne pour les noms des images et une autre qui contient les labels du test VIA"
      ],
      "metadata": {
        "id": "BVaSBRUUkTUK"
      }
    },
    {
      "cell_type": "markdown",
      "source": [
        "Supprimons CaseNumber "
      ],
      "metadata": {
        "id": "O2wifh9yp4Us"
      }
    },
    {
      "cell_type": "code",
      "source": [
        "dataset_via=dataset_via.drop(columns='CaseNumber')"
      ],
      "metadata": {
        "id": "OdWzGBrW0kNQ"
      },
      "execution_count": null,
      "outputs": []
    },
    {
      "cell_type": "code",
      "source": [
        "dataset_via"
      ],
      "metadata": {
        "id": "UHpgVF480nN7"
      },
      "execution_count": null,
      "outputs": []
    },
    {
      "cell_type": "markdown",
      "source": [
        "**Recuperation des images**\n",
        "\n",
        "---\n",
        "\n",
        "Dezzipons le dossier des images"
      ],
      "metadata": {
        "id": "oNFqX2lu2xDm"
      }
    },
    {
      "cell_type": "code",
      "source": [
        "!apt-get install unzip"
      ],
      "metadata": {
        "id": "ADnQbjqb02xG"
      },
      "execution_count": null,
      "outputs": []
    },
    {
      "cell_type": "code",
      "source": [
        "!unzip IARCImageBankVIA.zip"
      ],
      "metadata": {
        "id": "OQ4j-k2g23WP"
      },
      "execution_count": null,
      "outputs": []
    },
    {
      "cell_type": "markdown",
      "source": [
        "Rassemblons l'ensemble des images dans un nouveau dossier ImagesVia"
      ],
      "metadata": {
        "id": "am89bPcpqMpj"
      }
    },
    {
      "cell_type": "code",
      "source": [
        "import glob\n",
        "import shutil"
      ],
      "metadata": {
        "id": "YuOg_y4y77jd"
      },
      "execution_count": null,
      "outputs": []
    },
    {
      "cell_type": "code",
      "source": [
        "dst_dir = getcwd()+'/ImagesVia'\n",
        "#print(dst_dir)\n",
        "for i in range(1,187):\n",
        "  src_dir = getcwd()+'/Case '\n",
        "  src_dir=src_dir+str(i).zfill(3)\n",
        "  #print(src_dir)\n",
        "  for jpgfile in glob.iglob(os.path.join(src_dir, \"*.jpg\")):\n",
        "    shutil.copy(jpgfile, dst_dir)"
      ],
      "metadata": {
        "id": "QD7XWBwq6ZJB"
      },
      "execution_count": null,
      "outputs": []
    },
    {
      "cell_type": "markdown",
      "source": [
        "Ajout d'une nouvelle colonne qui contient les valeurs des chemins des images"
      ],
      "metadata": {
        "id": "0SbSim1xrBFy"
      }
    },
    {
      "cell_type": "code",
      "source": [
        "paths=[]\n",
        "for i in range(368):\n",
        "  paths.append(getcwd()+\"/ImagesVia/\"+dataset_via['File'][i])"
      ],
      "metadata": {
        "id": "zcC1KEnO8B1q"
      },
      "execution_count": null,
      "outputs": []
    },
    {
      "cell_type": "code",
      "source": [
        "paths"
      ],
      "metadata": {
        "id": "zXa--gOP-dNc"
      },
      "execution_count": null,
      "outputs": []
    },
    {
      "cell_type": "code",
      "source": [
        "dataset_via['Paths']=paths"
      ],
      "metadata": {
        "id": "A2xr0cIs-sKz"
      },
      "execution_count": null,
      "outputs": []
    },
    {
      "cell_type": "markdown",
      "source": [
        "Enregistrement des donnees pretraitees dans un dataset"
      ],
      "metadata": {
        "id": "VMIs3BvSrTvx"
      }
    },
    {
      "cell_type": "code",
      "source": [
        "dataset_via.to_csv(\"datas_via.csv\")"
      ],
      "metadata": {
        "id": "V3lJGEge-6Ek"
      },
      "execution_count": null,
      "outputs": []
    },
    {
      "cell_type": "code",
      "source": [],
      "metadata": {
        "id": "HTiuhfYF_2cH"
      },
      "execution_count": null,
      "outputs": []
    }
  ]
}